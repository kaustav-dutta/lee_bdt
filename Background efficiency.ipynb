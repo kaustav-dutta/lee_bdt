{
 "cells": [
  {
   "cell_type": "code",
   "execution_count": 8,
   "metadata": {},
   "outputs": [],
   "source": [
    "import ROOT\n",
    "ROOT.gROOT.ProcessLine(\"gErrorIgnoreLevel = 2002;\")\n",
    "import efficiency as e\n",
    "from settings import COLORS, DESCRIPTION"
   ]
  },
  {
   "cell_type": "code",
   "execution_count": 9,
   "metadata": {},
   "outputs": [
    {
     "data": {
      "text/plain": [
       "<ROOT.TLatex object at 0x7f86ba3ed750>"
      ]
     },
     "execution_count": 9,
     "metadata": {},
     "output_type": "execute_result"
    }
   ],
   "source": [
    "import importlib    # This command makes sure we load the last version of the module\n",
    "importlib.reload(e) # No need to restart the kernel after modifications\n",
    "p_preliminary = ROOT.TPaveText(-0.1, 0.92, 0.7,0.96, \"NDC\")\n",
    "p_preliminary.SetFillStyle(0)\n",
    "p_preliminary.SetBorderSize(0)\n",
    "pot = 4.341e10\n",
    "p_preliminary.AddText(\"MicroBooNE Simulation Preliminary\")"
   ]
  },
  {
   "cell_type": "code",
   "execution_count": 10,
   "metadata": {},
   "outputs": [
    {
     "data": {
      "application/vnd.jupyter.widget-view+json": {
       "model_id": "1e6b8f6fdc45458c905457af6759675e",
       "version_major": 2,
       "version_minor": 0
      },
      "text/plain": [
       "HBox(children=(IntProgress(value=0, max=3), HTML(value='')))"
      ]
     },
     "metadata": {},
     "output_type": "display_data"
    },
    {
     "data": {
      "application/vnd.jupyter.widget-view+json": {
       "model_id": "903e978a8a8e41d29998db97eee46c46",
       "version_major": 2,
       "version_minor": 0
      },
      "text/plain": [
       "HBox(children=(IntProgress(value=0, max=356050), HTML(value='')))"
      ]
     },
     "metadata": {},
     "output_type": "display_data"
    },
    {
     "data": {
      "application/vnd.jupyter.widget-view+json": {
       "model_id": "951872e3335b4600958d7ae03ba8c32d",
       "version_major": 2,
       "version_minor": 0
      },
      "text/plain": [
       "HBox(children=(IntProgress(value=0, max=96500), HTML(value='')))"
      ]
     },
     "metadata": {},
     "output_type": "display_data"
    },
    {
     "data": {
      "application/vnd.jupyter.widget-view+json": {
       "model_id": "06207ba9d6b84ffd99385683dc20e701",
       "version_major": 2,
       "version_minor": 0
      },
      "text/plain": [
       "HBox(children=(IntProgress(value=0, max=211589), HTML(value='')))"
      ]
     },
     "metadata": {},
     "output_type": "display_data"
    },
    {
     "name": "stdout",
     "output_type": "stream",
     "text": [
      "\n"
     ]
    }
   ],
   "source": [
    "effs_mc = e.bkg_efficiency(\"data_files/mc_bnb/1\", 1)"
   ]
  },
  {
   "cell_type": "code",
   "execution_count": 11,
   "metadata": {},
   "outputs": [
    {
     "data": {
      "application/vnd.jupyter.widget-view+json": {
       "model_id": "552bf89a75b941c1acebf19a4bcde143",
       "version_major": 2,
       "version_minor": 0
      },
      "text/plain": [
       "HBox(children=(IntProgress(value=0, max=96500), HTML(value='')))"
      ]
     },
     "metadata": {},
     "output_type": "display_data"
    },
    {
     "name": "stdout",
     "output_type": "stream",
     "text": [
      "\n"
     ]
    }
   ],
   "source": [
    "effs_nue = e.bkg_efficiency_nue(\"data_files/mc_nue_sbnfit/\", 1)"
   ]
  },
  {
   "cell_type": "code",
   "execution_count": 12,
   "metadata": {},
   "outputs": [
    {
     "name": "stdout",
     "output_type": "stream",
     "text": [
      "1 51402.64636230469\n",
      "Cosmic 479.99010603129864\n",
      "3 10919.22615814209\n",
      "Beam Intrinsic #nu_{#mu} 477.7348448038101\n",
      "4 3532.612802505493\n",
      "Beam Intrinsic NC 310.2129719182849\n",
      "5 36660.03769683838\n",
      "Outside fid. vol. 81.79613971710205\n",
      "7 14719.120944023132\n",
      "Cosmic contaminated 370.72136300313286\n",
      "8 34.01828970964939\n",
      "#nu_{e} CC 13.791098647502842\n"
     ]
    },
    {
     "data": {
      "image/png": "[encoded data removed]",
      "text/plain": [
       "<IPython.core.display.Image object>"
      ]
     },
     "metadata": {},
     "output_type": "display_data"
    }
   ],
   "source": [
    "c_eff = ROOT.TCanvas(\"c_eff\")\n",
    "histos = []\n",
    "leg = ROOT.TLegend(0.1, 0.78, 0.9, 0.92)\n",
    "leg.SetNColumns(2)\n",
    "for eff in effs_mc:\n",
    "    print(eff, effs_mc[eff].tot.Integral())\n",
    "    print(DESCRIPTION[eff], effs_mc[eff].selected[\"passed\"].Integral())\n",
    "    histo = effs_mc[eff].histo_divided(\"passed\")\n",
    "    eff_value = effs_mc[eff].efficiency[\"passed\"] \n",
    "    eff_err = effs_mc[eff].efficiency_err[\"passed\"] \n",
    "    histos.append(histo)\n",
    "    histo.Draw(\"hist same\")\n",
    "    histo.GetYaxis().SetTitle(\"Efficiency\")\n",
    "    histo.GetXaxis().SetTitle(\"#nu energy [GeV]\")\n",
    "    histo.GetYaxis().SetTitleOffset(0.9)\n",
    "    histo.GetYaxis().SetRangeUser(0.001, 1)\n",
    "    histo.SetLineColor(COLORS[eff])\n",
    "    if eff == 1:\n",
    "        histo.SetLineColor(ROOT.kRed)\n",
    "    leg.AddEntry(histo, \"%s: (%.1f #pm %.1f) %%\" % (DESCRIPTION[eff], eff_value*100, max(0.1, eff_err*100)), \"l\")\n",
    "    histo.SetLineWidth(3)\n",
    "\n",
    "print(8, effs_nue[8].tot.Integral() * 4.341e19/effs_nue[8].pot)\n",
    "print(DESCRIPTION[8], effs_nue[8].selected[\"passed\"].Integral() * 4.341e19/effs_nue[8].pot)\n",
    "nuecc = effs_nue[8].selected[\"passed\"].Clone()\n",
    "eff_value = effs_nue[8].efficiency[\"passed\"] \n",
    "eff_err = effs_nue[8].efficiency_err[\"passed\"] \n",
    "nuecc.Divide(effs_nue[8].tot)\n",
    "nuecc.SetLineColor(COLORS[8])\n",
    "nuecc.SetLineWidth(3)\n",
    "nuecc.Draw(\"hist same\")\n",
    "p_preliminary.Draw()\n",
    "leg.AddEntry(nuecc, \"%s: (%.1f #pm %.1f) %%\" % (DESCRIPTION[8], eff_value*100, eff_err*100), \"l\")\n",
    "leg.Draw()\n",
    "c_eff.SetTopMargin(0.23)\n",
    "c_eff.SetLogy()\n",
    "c_eff.Draw()\n",
    "c_eff.SaveAs(\"plots/bkg_eff.pdf\")"
   ]
  },
  {
   "cell_type": "code",
   "execution_count": null,
   "metadata": {},
   "outputs": [],
   "source": []
  }
 ],
 "metadata": {
  "kernelspec": {
   "display_name": "Python 3",
   "language": "python",
   "name": "python3"
  },
  "language_info": {
   "codemirror_mode": {
    "name": "ipython",
    "version": 3
   },
   "file_extension": ".py",
   "mimetype": "text/x-python",
   "name": "python",
   "nbconvert_exporter": "python",
   "pygments_lexer": "ipython3",
   "version": "3.7.0"
  }
 },
 "nbformat": 4,
 "nbformat_minor": 2
}
