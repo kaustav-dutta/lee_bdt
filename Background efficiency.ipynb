{
 "cells": [
  {
   "cell_type": "code",
   "execution_count": 1,
   "metadata": {},
   "outputs": [
    {
     "name": "stdout",
     "output_type": "stream",
     "text": [
      "Welcome to JupyROOT 6.14/04\n"
     ]
    }
   ],
   "source": [
    "import ROOT\n",
    "ROOT.gROOT.ProcessLine(\"gErrorIgnoreLevel = 2002;\")\n",
    "import efficiency as e\n",
    "from settings import COLORS, DESCRIPTION"
   ]
  },
  {
   "cell_type": "code",
   "execution_count": 45,
   "metadata": {},
   "outputs": [
    {
     "data": {
      "text/plain": [
       "<ROOT.TLatex object at 0x7ffb9a6a88f0>"
      ]
     },
     "execution_count": 45,
     "metadata": {},
     "output_type": "execute_result"
    }
   ],
   "source": [
    "import importlib    # This command makes sure we load the last version of the module\n",
    "importlib.reload(e) # No need to restart the kernel after modifications\n",
    "p_preliminary = ROOT.TPaveText(-0.1, 0.92, 0.7,0.96, \"NDC\")\n",
    "p_preliminary.SetFillStyle(0)\n",
    "p_preliminary.SetBorderSize(0)\n",
    "pot = 4.341e10\n",
    "p_preliminary.AddText(\"MicroBooNE Simulation Preliminary\")"
   ]
  },
  {
   "cell_type": "code",
   "execution_count": 46,
   "metadata": {},
   "outputs": [
    {
     "data": {
      "application/vnd.jupyter.widget-view+json": {
       "model_id": "e7cadafca1a642f5aa6b748a8e806f5d",
       "version_major": 2,
       "version_minor": 0
      },
      "text/plain": [
       "HBox(children=(IntProgress(value=0, max=3), HTML(value='')))"
      ]
     },
     "metadata": {},
     "output_type": "display_data"
    },
    {
     "data": {
      "application/vnd.jupyter.widget-view+json": {
       "model_id": "5c2add9379fb41ccb72bbfd8e1f06737",
       "version_major": 2,
       "version_minor": 0
      },
      "text/plain": [
       "HBox(children=(IntProgress(value=0, max=876550), HTML(value='')))"
      ]
     },
     "metadata": {},
     "output_type": "display_data"
    },
    {
     "data": {
      "application/vnd.jupyter.widget-view+json": {
       "model_id": "3ce5786a46294f50aebe7db645322168",
       "version_major": 2,
       "version_minor": 0
      },
      "text/plain": [
       "HBox(children=(IntProgress(value=0, max=96500), HTML(value='')))"
      ]
     },
     "metadata": {},
     "output_type": "display_data"
    },
    {
     "data": {
      "application/vnd.jupyter.widget-view+json": {
       "model_id": "1af3e39478444e8b852e7d7898528ca9",
       "version_major": 2,
       "version_minor": 0
      },
      "text/plain": [
       "HBox(children=(IntProgress(value=0, max=211589), HTML(value='')))"
      ]
     },
     "metadata": {},
     "output_type": "display_data"
    },
    {
     "name": "stdout",
     "output_type": "stream",
     "text": [
      "\n"
     ]
    }
   ],
   "source": [
    "effs_mc = e.bkg_efficiency(\"data_files/mc_bnb/\", 1)"
   ]
  },
  {
   "cell_type": "code",
   "execution_count": 4,
   "metadata": {},
   "outputs": [
    {
     "data": {
      "application/vnd.jupyter.widget-view+json": {
       "model_id": "d2c1c6cc297b42d4a605c22140db8e27",
       "version_major": 2,
       "version_minor": 0
      },
      "text/plain": [
       "HBox(children=(IntProgress(value=0, max=96500), HTML(value='')))"
      ]
     },
     "metadata": {},
     "output_type": "display_data"
    },
    {
     "name": "stdout",
     "output_type": "stream",
     "text": [
      "\n"
     ]
    }
   ],
   "source": [
    "effs_nue = e.bkg_efficiency_nue(\"data_files/mc_nue_sbnfit/\", 1)"
   ]
  },
  {
   "cell_type": "code",
   "execution_count": 44,
   "metadata": {},
   "outputs": [
    {
     "name": "stdout",
     "output_type": "stream",
     "text": [
      "1 51356.051542282104\n",
      "Cosmic 489.43166004121304\n",
      "3 10905.984449386597\n",
      "Beam Intrinsic #nu_{#mu} 475.46261525154114\n",
      "4 3532.753451347351\n",
      "Beam Intrinsic NC 307.8403123617172\n",
      "5 36634.57318305969\n",
      "Outside fid. vol. 81.42774137854576\n",
      "7 14706.39779663086\n",
      "Cosmic contaminated 376.0961044977885\n",
      "8 33.8180891557555\n",
      "#nu_{e} CC 13.689685006185696\n"
     ]
    },
    {
     "data": {
      "image/png": "[encoded data removed]",
      "text/plain": [
       "<IPython.core.display.Image object>"
      ]
     },
     "metadata": {},
     "output_type": "display_data"
    }
   ],
   "source": [
    "c_eff = ROOT.TCanvas(\"c_eff\")\n",
    "histos = []\n",
    "leg = ROOT.TLegend(0.1, 0.78, 0.9, 0.92)\n",
    "leg.SetNColumns(2)\n",
    "for eff in effs_mc:\n",
    "    print(eff, effs_mc[eff].tot.Integral())\n",
    "    print(DESCRIPTION[eff], effs_mc[eff].selected[\"passed\"].Integral())\n",
    "    histo = effs_mc[eff].histo_divided(\"passed\")\n",
    "    eff_value = effs_mc[eff].efficiency[\"passed\"] \n",
    "    eff_err = effs_mc[eff].efficiency_err[\"passed\"] \n",
    "    histos.append(histo)\n",
    "    histo.Draw(\"hist same\")\n",
    "    histo.GetYaxis().SetTitle(\"Efficiency\")\n",
    "    histo.GetXaxis().SetTitle(\"#nu energy [GeV]\")\n",
    "    histo.GetYaxis().SetTitleOffset(0.9)\n",
    "    histo.GetYaxis().SetRangeUser(0.001, 1)\n",
    "    histo.SetLineColor(COLORS[eff])\n",
    "    if eff == 1:\n",
    "        histo.SetLineColor(ROOT.kRed)\n",
    "    leg.AddEntry(histo, \"%s: (%.1f #pm %.1f) %%\" % (DESCRIPTION[eff], eff_value*100, max(0.1, eff_err*100)), \"l\")\n",
    "    histo.SetLineWidth(3)\n",
    "\n",
    "print(8, effs_nue[8].tot.Integral() * 4.341e19/effs_nue[8].pot)\n",
    "print(DESCRIPTION[8], effs_nue[8].selected[\"passed\"].Integral() * 4.341e19/effs_nue[8].pot)\n",
    "nuecc = effs_nue[8].selected[\"passed\"].Clone()\n",
    "eff_value = effs_nue[8].efficiency[\"passed\"] \n",
    "eff_err = effs_nue[8].efficiency_err[\"passed\"] \n",
    "nuecc.Divide(effs_nue[8].tot)\n",
    "nuecc.SetLineColor(COLORS[8])\n",
    "nuecc.SetLineWidth(3)\n",
    "nuecc.Draw(\"hist same\")\n",
    "p_preliminary.Draw()\n",
    "leg.AddEntry(nuecc, \"%s: (%.1f #pm %.1f) %%\" % (DESCRIPTION[8], eff_value*100, eff_err*100), \"l\")\n",
    "leg.Draw()\n",
    "c_eff.SetTopMargin(0.23)\n",
    "c_eff.SetLogy()\n",
    "c_eff.Draw()\n",
    "c_eff.SaveAs(\"plots/bkg_eff.pdf\")"
   ]
  },
  {
   "cell_type": "code",
   "execution_count": null,
   "metadata": {},
   "outputs": [],
   "source": []
  }
 ],
 "metadata": {
  "kernelspec": {
   "display_name": "Python 3",
   "language": "python",
   "name": "python3"
  },
  "language_info": {
   "codemirror_mode": {
    "name": "ipython",
    "version": 3
   },
   "file_extension": ".py",
   "mimetype": "text/x-python",
   "name": "python",
   "nbconvert_exporter": "python",
   "pygments_lexer": "ipython3",
   "version": "3.7.0"
  }
 },
 "nbformat": 4,
 "nbformat_minor": 2
}
